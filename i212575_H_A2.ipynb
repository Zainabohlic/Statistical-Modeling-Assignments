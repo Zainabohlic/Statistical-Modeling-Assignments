{
 "cells": [
  {
   "cell_type": "code",
   "execution_count": 3,
   "id": "3851bad4-3861-46dd-84da-aa6eb690f728",
   "metadata": {},
   "outputs": [],
   "source": [
    "import matplotlib.pyplot as plt\n",
    "import numpy as np\n",
    "import seaborn as sns\n",
    "import pymc3 as pm\n",
    "import arviz as az\n",
    "import pandas as pd"
   ]
  },
  {
   "cell_type": "code",
   "execution_count": 19,
   "id": "2ba84333-dff8-490f-bc7b-cdf2a8d6e1b2",
   "metadata": {},
   "outputs": [
    {
     "name": "stderr",
     "output_type": "stream",
     "text": [
      "/Applications/anaconda3/envs/dice/lib/python3.8/site-packages/deprecat/classic.py:215: FutureWarning: In v4.0, pm.sample will return an `arviz.InferenceData` object instead of a `MultiTrace` by default. You can pass return_inferencedata=True or return_inferencedata=False to be safe and silence this warning.\n",
      "  return wrapped_(*args_, **kwargs_)\n",
      "Auto-assigning NUTS sampler...\n",
      "Initializing NUTS using jitter+adapt_diag...\n",
      "Multiprocess sampling (4 chains in 4 jobs)\n",
      "NUTS: [epsilon, beta, alpha]\n"
     ]
    },
    {
     "data": {
      "text/html": [
       "\n",
       "<style>\n",
       "    /* Turns off some styling */\n",
       "    progress {\n",
       "        /* gets rid of default border in Firefox and Opera. */\n",
       "        border: none;\n",
       "        /* Needs to be in here for Safari polyfill so background images work as expected. */\n",
       "        background-size: auto;\n",
       "    }\n",
       "    progress:not([value]), progress:not([value])::-webkit-progress-bar {\n",
       "        background: repeating-linear-gradient(45deg, #7e7e7e, #7e7e7e 10px, #5c5c5c 10px, #5c5c5c 20px);\n",
       "    }\n",
       "    .progress-bar-interrupted, .progress-bar-interrupted::-webkit-progress-bar {\n",
       "        background: #F44336;\n",
       "    }\n",
       "</style>\n"
      ],
      "text/plain": [
       "<IPython.core.display.HTML object>"
      ]
     },
     "metadata": {},
     "output_type": "display_data"
    },
    {
     "data": {
      "text/html": [
       "\n",
       "    <div>\n",
       "      <progress value='16000' class='' max='16000' style='width:300px; height:20px; vertical-align: middle;'></progress>\n",
       "      100.00% [16000/16000 00:03&lt;00:00 Sampling 4 chains, 0 divergences]\n",
       "    </div>\n",
       "    "
      ],
      "text/plain": [
       "<IPython.core.display.HTML object>"
      ]
     },
     "metadata": {},
     "output_type": "display_data"
    },
    {
     "name": "stderr",
     "output_type": "stream",
     "text": [
      "Sampling 4 chains for 2_000 tune and 2_000 draw iterations (8_000 + 8_000 draws total) took 11 seconds.\n",
      "/Applications/anaconda3/envs/dice/lib/python3.8/site-packages/deprecat/classic.py:215: FutureWarning: In v4.0, pm.sample will return an `arviz.InferenceData` object instead of a `MultiTrace` by default. You can pass return_inferencedata=True or return_inferencedata=False to be safe and silence this warning.\n",
      "  return wrapped_(*args_, **kwargs_)\n",
      "Auto-assigning NUTS sampler...\n",
      "Initializing NUTS using jitter+adapt_diag...\n",
      "Multiprocess sampling (4 chains in 4 jobs)\n",
      "NUTS: [epsilon, beta, alpha]\n"
     ]
    },
    {
     "data": {
      "text/html": [
       "\n",
       "<style>\n",
       "    /* Turns off some styling */\n",
       "    progress {\n",
       "        /* gets rid of default border in Firefox and Opera. */\n",
       "        border: none;\n",
       "        /* Needs to be in here for Safari polyfill so background images work as expected. */\n",
       "        background-size: auto;\n",
       "    }\n",
       "    progress:not([value]), progress:not([value])::-webkit-progress-bar {\n",
       "        background: repeating-linear-gradient(45deg, #7e7e7e, #7e7e7e 10px, #5c5c5c 10px, #5c5c5c 20px);\n",
       "    }\n",
       "    .progress-bar-interrupted, .progress-bar-interrupted::-webkit-progress-bar {\n",
       "        background: #F44336;\n",
       "    }\n",
       "</style>\n"
      ],
      "text/plain": [
       "<IPython.core.display.HTML object>"
      ]
     },
     "metadata": {},
     "output_type": "display_data"
    },
    {
     "data": {
      "text/html": [
       "\n",
       "    <div>\n",
       "      <progress value='16000' class='' max='16000' style='width:300px; height:20px; vertical-align: middle;'></progress>\n",
       "      100.00% [16000/16000 00:02&lt;00:00 Sampling 4 chains, 0 divergences]\n",
       "    </div>\n",
       "    "
      ],
      "text/plain": [
       "<IPython.core.display.HTML object>"
      ]
     },
     "metadata": {},
     "output_type": "display_data"
    },
    {
     "name": "stderr",
     "output_type": "stream",
     "text": [
      "Sampling 4 chains for 2_000 tune and 2_000 draw iterations (8_000 + 8_000 draws total) took 9 seconds.\n",
      "The acceptance probability does not match the target. It is 0.669183125240836, but should be close to 0.8. Try to increase the number of tuning steps.\n"
     ]
    },
    {
     "name": "stdout",
     "output_type": "stream",
     "text": [
      "Correlation\n",
      "Sepal Length and Petal Width: 0.8179411262715752\n",
      "Petal Length and Petal Width: 0.9628654314027969\n"
     ]
    }
   ],
   "source": [
    "from scipy.stats import pearsonr\n",
    "\n",
    "# Load the CSV dataset\n",
    "data = pd.read_csv(\"iris.csv\")\n",
    "\n",
    "# Define the variables\n",
    "sepal_length = data['sepal_length']\n",
    "petal_width = data['petal_width']\n",
    "petal_length = data['petal_length']\n",
    "\n",
    "# Linear regression for Sepal Length and Petal Width\n",
    "with pm.Model() as model1:\n",
    "    alpha = pm.Normal('alpha', mu=0, sd=10)\n",
    "    beta = pm.Normal('beta', mu=0, sd=10)\n",
    "    epsilon = pm.HalfCauchy('epsilon', 5)\n",
    "    \n",
    "    mu = alpha + beta * sepal_length\n",
    "    \n",
    "    sepal_width_observed = pm.Normal('sepal_width_observed', mu=mu, sd=epsilon, observed=petal_width)\n",
    "    \n",
    "    trace1 = pm.sample(2000, tune=2000)\n",
    "    \n",
    "# Linear regression for Petal Length and Petal Width\n",
    "with pm.Model() as model2:\n",
    "    alpha = pm.Normal('alpha', mu=0, sd=10)\n",
    "    beta = pm.Normal('beta', mu=0, sd=10)\n",
    "    epsilon = pm.HalfCauchy('epsilon', 5)\n",
    "    \n",
    "    mu = alpha + beta * petal_length\n",
    "    \n",
    "    sepal_width_observed = pm.Normal('sepal_width_observed', mu=mu, sd=epsilon, observed=petal_width)\n",
    "    \n",
    "    trace2 = pm.sample(2000, tune=2000)\n",
    "\n",
    "# Calculate Pearson correlation coefficients using scipy.stats\n",
    "correlation1, _ = pearsonr(sepal_length, petal_width)\n",
    "correlation2, _ = pearsonr(petal_length, petal_width)\n",
    "\n",
    "print(\"Correlation\")\n",
    "print(\"Sepal Length and Petal Width:\", correlation1)\n",
    "print(\"Petal Length and Petal Width:\", correlation2)"
   ]
  },
  {
   "cell_type": "code",
   "execution_count": 41,
   "id": "7ee139f7-9afa-4930-9527-38acb8945cc4",
   "metadata": {},
   "outputs": [
    {
     "name": "stderr",
     "output_type": "stream",
     "text": [
      "/Applications/anaconda3/envs/dice/lib/python3.8/site-packages/deprecat/classic.py:215: FutureWarning: In v4.0, pm.sample will return an `arviz.InferenceData` object instead of a `MultiTrace` by default. You can pass return_inferencedata=True or return_inferencedata=False to be safe and silence this warning.\n",
      "  return wrapped_(*args_, **kwargs_)\n",
      "Auto-assigning NUTS sampler...\n",
      "Initializing NUTS using jitter+adapt_diag...\n",
      "Multiprocess sampling (4 chains in 4 jobs)\n",
      "NUTS: [epsilon_high, beta_high, alpha_high]\n"
     ]
    },
    {
     "data": {
      "text/html": [
       "\n",
       "<style>\n",
       "    /* Turns off some styling */\n",
       "    progress {\n",
       "        /* gets rid of default border in Firefox and Opera. */\n",
       "        border: none;\n",
       "        /* Needs to be in here for Safari polyfill so background images work as expected. */\n",
       "        background-size: auto;\n",
       "    }\n",
       "    progress:not([value]), progress:not([value])::-webkit-progress-bar {\n",
       "        background: repeating-linear-gradient(45deg, #7e7e7e, #7e7e7e 10px, #5c5c5c 10px, #5c5c5c 20px);\n",
       "    }\n",
       "    .progress-bar-interrupted, .progress-bar-interrupted::-webkit-progress-bar {\n",
       "        background: #F44336;\n",
       "    }\n",
       "</style>\n"
      ],
      "text/plain": [
       "<IPython.core.display.HTML object>"
      ]
     },
     "metadata": {},
     "output_type": "display_data"
    },
    {
     "data": {
      "text/html": [
       "\n",
       "    <div>\n",
       "      <progress value='16000' class='' max='16000' style='width:300px; height:20px; vertical-align: middle;'></progress>\n",
       "      100.00% [16000/16000 00:02&lt;00:00 Sampling 4 chains, 0 divergences]\n",
       "    </div>\n",
       "    "
      ],
      "text/plain": [
       "<IPython.core.display.HTML object>"
      ]
     },
     "metadata": {},
     "output_type": "display_data"
    },
    {
     "name": "stderr",
     "output_type": "stream",
     "text": [
      "Sampling 4 chains for 2_000 tune and 2_000 draw iterations (8_000 + 8_000 draws total) took 9 seconds.\n",
      "/Applications/anaconda3/envs/dice/lib/python3.8/site-packages/deprecat/classic.py:215: FutureWarning: In v4.0, pm.sample will return an `arviz.InferenceData` object instead of a `MultiTrace` by default. You can pass return_inferencedata=True or return_inferencedata=False to be safe and silence this warning.\n",
      "  return wrapped_(*args_, **kwargs_)\n",
      "Auto-assigning NUTS sampler...\n",
      "Initializing NUTS using jitter+adapt_diag...\n",
      "Multiprocess sampling (4 chains in 4 jobs)\n",
      "NUTS: [epsilon_low, beta_low, alpha_low]\n"
     ]
    },
    {
     "data": {
      "text/html": [
       "\n",
       "<style>\n",
       "    /* Turns off some styling */\n",
       "    progress {\n",
       "        /* gets rid of default border in Firefox and Opera. */\n",
       "        border: none;\n",
       "        /* Needs to be in here for Safari polyfill so background images work as expected. */\n",
       "        background-size: auto;\n",
       "    }\n",
       "    progress:not([value]), progress:not([value])::-webkit-progress-bar {\n",
       "        background: repeating-linear-gradient(45deg, #7e7e7e, #7e7e7e 10px, #5c5c5c 10px, #5c5c5c 20px);\n",
       "    }\n",
       "    .progress-bar-interrupted, .progress-bar-interrupted::-webkit-progress-bar {\n",
       "        background: #F44336;\n",
       "    }\n",
       "</style>\n"
      ],
      "text/plain": [
       "<IPython.core.display.HTML object>"
      ]
     },
     "metadata": {},
     "output_type": "display_data"
    },
    {
     "data": {
      "text/html": [
       "\n",
       "    <div>\n",
       "      <progress value='16000' class='' max='16000' style='width:300px; height:20px; vertical-align: middle;'></progress>\n",
       "      100.00% [16000/16000 00:03&lt;00:00 Sampling 4 chains, 326 divergences]\n",
       "    </div>\n",
       "    "
      ],
      "text/plain": [
       "<IPython.core.display.HTML object>"
      ]
     },
     "metadata": {},
     "output_type": "display_data"
    },
    {
     "name": "stderr",
     "output_type": "stream",
     "text": [
      "Sampling 4 chains for 2_000 tune and 2_000 draw iterations (8_000 + 8_000 draws total) took 11 seconds.\n",
      "There were 214 divergences after tuning. Increase `target_accept` or reparameterize.\n",
      "The acceptance probability does not match the target. It is 0.501873618471093, but should be close to 0.8. Try to increase the number of tuning steps.\n",
      "There were 112 divergences after tuning. Increase `target_accept` or reparameterize.\n",
      "The acceptance probability does not match the target. It is 0.5443296988254249, but should be close to 0.8. Try to increase the number of tuning steps.\n",
      "The estimated number of effective samples is smaller than 200 for some parameters.\n"
     ]
    },
    {
     "name": "stdout",
     "output_type": "stream",
     "text": [
      "R-squared value for Model with Petal Length (High Correlation): 0.9271096304370077\n",
      "R-squared value for Model with Sepal Length (Low Correlation): 0.6690186730615\n",
      "\n",
      "\n",
      "The R-squared values for the two linear regression models are as follows:\n",
      "Model 1 (using Sepal Length as the independent variable) achieved an R-squared value of 0.6690.\n",
      "Model 2 (using Petal Length as the independent variable) yielded a higher R-squared value of 0.9271.\n",
      "When comparing these R-squared values:\n",
      "Model 2 (Petal Length) significantly outperforms Model 1 (Sepal Length) with a notably higher R-squared value of 0.9271 compared to 0.6690.\n",
      "Consequently, Model 2, utilizing Petal Length as the independent variable, offers a superior R-squared value and demonstrates a more robust fit to the data. It effectively explains a larger portion of the variance in Petal Width, signifying a more pronounced and appropriate linear relationship between Petal Length and Petal Width.\n"
     ]
    }
   ],
   "source": [
    "# High Correlation\n",
    "\n",
    "data = pd.read_csv(\"iris.csv\")\n",
    "\n",
    "y_var = data['petal_width']\n",
    "x_var = data['petal_length']\n",
    "\n",
    "# Model: Linear Regression with Petal Length as the independent variable\n",
    "with pm.Model() as model_high_corr:\n",
    "    alpha_high = pm.Normal('alpha_high', mu=0, sd=10)\n",
    "    beta_high = pm.Normal('beta_high', mu=0, sd=10)\n",
    "    epsilon_high = pm.HalfCauchy('epsilon_high', 5)\n",
    "    \n",
    "    mu_high = alpha_high + beta_high * x_var\n",
    "    \n",
    "    y_high = pm.Normal('y_high', mu=mu_high, sd=epsilon_high, observed=y_var)\n",
    "    \n",
    "    trace_high = pm.sample(2000, tune=2000)\n",
    "\n",
    "# Calculate R-squared value for the high correlation model\n",
    "def r_squared(y, y_pred):\n",
    "    residual = np.sum((y - y_pred) ** 2)\n",
    "    total = np.sum((y - np.mean(y)) ** 2)\n",
    "    return 1 - (residual / total)\n",
    "\n",
    "y_pred_high = trace_high['alpha_high'].mean() + trace_high['beta_high'].mean() * x_var\n",
    "RSquared_high = r_squared(y_var, y_pred_high)\n",
    "\n",
    "\n",
    "\n",
    "# Low Correlarion\n",
    "\n",
    "# Define the independent variable (x_var) - Sepal Length\n",
    "x_var = data['sepal_length']\n",
    "\n",
    "# Model: Linear Regression with Sepal Length as the independent variable\n",
    "with pm.Model() as model_low_corr:\n",
    "    alpha_low = pm.Normal('alpha_low', mu=0, sd=10)\n",
    "    beta_low = pm.Normal('beta_low', mu=0, sd=10)\n",
    "    epsilon_low = pm.HalfCauchy('epsilon_low', 5)\n",
    "    \n",
    "    mu_low = alpha_low + beta_low * x_var\n",
    "    \n",
    "    y_low = pm.Normal('y_low', mu=mu_low, sd=epsilon_low, observed=y_var)\n",
    "    \n",
    "    trace_low = pm.sample(2000, tune=2000)\n",
    "\n",
    "# Calculate R-squared value for the low correlation model\n",
    "y_pred_low = trace_low['alpha_low'].mean() + trace_low['beta_low'].mean() * x_var\n",
    "RSquared_low = r_squared(y_var, y_pred_low)\n",
    "print(\"R-squared value for Model with Petal Length (High Correlation):\", RSquared_high)\n",
    "print(\"R-squared value for Model with Sepal Length (Low Correlation):\", RSquared_low)\n",
    "\n",
    "print(\"\\n\")\n",
    "print (\"The R-squared values for the two linear regression models are as follows:\")\n",
    "print(\"Model 1 (using Sepal Length as the independent variable) achieved an R-squared value of 0.6690.\")\n",
    "print(\"Model 2 (using Petal Length as the independent variable) yielded a higher R-squared value of 0.9271.\")\n",
    "print(\"When comparing these R-squared values:\")\n",
    "print(\"Model 2 (Petal Length) significantly outperforms Model 1 (Sepal Length) with a notably higher R-squared value of 0.9271 compared to 0.6690.\")\n",
    "print(\"Consequently, Model 2, utilizing Petal Length as the independent variable, offers a superior R-squared value and demonstrates a more robust fit to the data. It effectively explains a larger portion of the variance in Petal Width, signifying a more pronounced and appropriate linear relationship between Petal Length and Petal Width.\")"
   ]
  },
  {
   "cell_type": "code",
   "execution_count": 37,
   "id": "ce1f5226-ecf6-4725-87b7-d01c91e2f37f",
   "metadata": {},
   "outputs": [
    {
     "data": {
      "image/png": "[encoded data removed]",
      "text/plain": [
       "<Figure size 504x432 with 1 Axes>"
      ]
     },
     "metadata": {
      "needs_background": "light"
     },
     "output_type": "display_data"
    }
   ],
   "source": [
    "import matplotlib.pyplot as plt\n",
    "import numpy as np\n",
    "\n",
    "plt.figure(figsize=(7, 6))  # Create a figure\n",
    "\n",
    "# Model 1: Petal Length as the independent variable\n",
    "plt.scatter(data['petal_length'], data['petal_width'], label='Data', color='black', alpha=0.7, s=80)\n",
    "plt.title(\"Linear Regression Model\")\n",
    "plt.xlabel(\"Petal Length (cm)\")\n",
    "plt.ylabel(\"Petal Width (cm)\")\n",
    "\n",
    "# Plot the regression line\n",
    "alpha1_mean = trace_high['alpha_high'].mean()\n",
    "beta1_mean = trace_high['beta_high'].mean()\n",
    "x_values = np.linspace(data['petal_length'].min(), data['petal_length'].max(), 100)\n",
    "y_values = alpha1_mean + beta1_mean * x_values\n",
    "plt.plot(x_values, y_values, color='red', label='Regression Line')\n",
    "plt.legend()\n",
    "\n",
    "plt.tight_layout()\n",
    "plt.show()\n"
   ]
  },
  {
   "cell_type": "code",
   "execution_count": 38,
   "id": "a6e948a6-1b03-449a-bf8e-e9a761d96abf",
   "metadata": {},
   "outputs": [
    {
     "data": {
      "image/png": "[encoded data removed]",
      "text/plain": [
       "<Figure size 504x432 with 1 Axes>"
      ]
     },
     "metadata": {
      "needs_background": "light"
     },
     "output_type": "display_data"
    }
   ],
   "source": [
    "import matplotlib.pyplot as plt\n",
    "import numpy as np\n",
    "\n",
    "plt.figure(figsize=(7, 6))  # Create a new figure\n",
    "\n",
    "# Model 2: Sepal Length as the independent variable\n",
    "plt.scatter(data['sepal_length'], data['petal_width'], label='Data', color='grey', alpha=0.7, s=80)\n",
    "plt.title(\"Linear Regression Model\")\n",
    "plt.xlabel(\"Sepal Length (cm)\")\n",
    "plt.ylabel(\"Petal Width (cm)\")\n",
    "\n",
    "# Plot the regression line\n",
    "alpha2_mean = trace_low['alpha_low'].mean()\n",
    "beta2_mean = trace_low['beta_low'].mean()\n",
    "x_values = np.linspace(data['sepal_length'].min(), data['sepal_length'].max(), 100)\n",
    "y_values = alpha2_mean + beta2_mean * x_values\n",
    "plt.plot(x_values, y_values, color='red', label='Regression Line')\n",
    "plt.legend()\n",
    "\n",
    "plt.tight_layout()\n",
    "plt.show()\n"
   ]
  },
  {
   "cell_type": "code",
   "execution_count": 42,
   "id": "2393c01c-9b2d-49bb-a674-818e025bc6a0",
   "metadata": {},
   "outputs": [
    {
     "name": "stdout",
     "output_type": "stream",
     "text": [
      "Conclusion\n",
      "Assessing the R-squared values and the choice of independent variables, we arrive at the following conclusions:\n",
      "The model (utilizing 'Petal Length' as the independent variable) attains an R-squared value of 0.9271, signifying its capacity to account for roughly 92.71% of the variability in the dependent variable, 'Petal Width'.\n",
      "In contrast, the model (employing 'Sepal Length' as the independent variable) obtains a lower R-squared value of 0.6690, explaining approximately 66.90% of the variance in 'Petal Width'.\n",
      "A higher R-squared value indicates the model's effectiveness in unraveling the variations in the dependent variable. In this context, the model using 'Petal Length' demonstrates a significantly superior R-squared value compared to the 'Sepal Length' model.\n",
      "As a result, the model that incorporates 'Petal Length' as the independent variable surpasses the other model. It provides a more accurate fit to the data, elucidating a larger portion of the variance in 'Petal Width'.\n",
      "The choice of 'Petal Length' as the independent variable, supported by its robust correlation with 'Petal Width' and the superior R-squared value, results in a more precise and effective linear regression model for predicting 'Petal Width'.\n"
     ]
    }
   ],
   "source": [
    "print(\"Conclusion\")\n",
    "print(\"Assessing the R-squared values and the choice of independent variables, we arrive at the following conclusions:\")\n",
    "print(\"The model (utilizing 'Petal Length' as the independent variable) attains an R-squared value of 0.9271, signifying its capacity to account for roughly 92.71% of the variability in the dependent variable, 'Petal Width'.\")\n",
    "print(\"In contrast, the model (employing 'Sepal Length' as the independent variable) obtains a lower R-squared value of 0.6690, explaining approximately 66.90% of the variance in 'Petal Width'.\")\n",
    "print(\"A higher R-squared value indicates the model's effectiveness in unraveling the variations in the dependent variable. In this context, the model using 'Petal Length' demonstrates a significantly superior R-squared value compared to the 'Sepal Length' model.\")\n",
    "print(\"As a result, the model that incorporates 'Petal Length' as the independent variable surpasses the other model. It provides a more accurate fit to the data, elucidating a larger portion of the variance in 'Petal Width'.\")\n",
    "print(\"The choice of 'Petal Length' as the independent variable, supported by its robust correlation with 'Petal Width' and the superior R-squared value, results in a more precise and effective linear regression model for predicting 'Petal Width'.\")\n"
   ]
  },
  {
   "cell_type": "code",
   "execution_count": null,
   "id": "e4a55e48-947a-4468-b338-b53e9d1fb34f",
   "metadata": {},
   "outputs": [],
   "source": []
  }
 ],
 "metadata": {
  "kernelspec": {
   "display_name": "Python 3",
   "language": "python",
   "name": "python3"
  },
  "language_info": {
   "codemirror_mode": {
    "name": "ipython",
    "version": 3
   },
   "file_extension": ".py",
   "mimetype": "text/x-python",
   "name": "python",
   "nbconvert_exporter": "python",
   "pygments_lexer": "ipython3",
   "version": "3.8.17"
  }
 },
 "nbformat": 4,
 "nbformat_minor": 5
}
